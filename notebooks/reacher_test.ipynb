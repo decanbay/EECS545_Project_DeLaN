{
 "cells": [
  {
   "cell_type": "code",
   "execution_count": 1,
   "metadata": {},
   "outputs": [
    {
     "name": "stdout",
     "output_type": "stream",
     "text": [
      "Observation should be [cos th1, sin th1, cos th2, sin th2, th1_dot, th2_dot]\n",
      "[-0.98819832  0.15317992 -0.9923815  -0.12320292  0.          0.        ]\n",
      "Action should be [tau_1, tau_2]\n",
      "[ 1.8555874 -1.05941  ]\n"
     ]
    }
   ],
   "source": [
    "import gym\n",
    "import gym_cenvs\n",
    "import numpy as np\n",
    "\n",
    "env = gym.make('Reacher-v0')\n",
    "#env = gym.make('DoublePendulum-v0')\n",
    "observation = env.reset()\n",
    "\n",
    "print('Observation should be [cos th1, sin th1, cos th2, sin th2, th1_dot, th2_dot]')\n",
    "print(observation)\n",
    "print('Action should be [tau_1, tau_2]')\n",
    "print(env.action_space.sample())\n",
    "\n",
    "for t in range(0, 1000):\n",
    "    \n",
    "    action = env.action_space.sample()    \n",
    "    observation, reward, done, _ = env.step(action)\n",
    "    env.render()\n",
    "    \n",
    "env.close()"
   ]
  },
  {
   "cell_type": "code",
   "execution_count": null,
   "metadata": {},
   "outputs": [],
   "source": []
  }
 ],
 "metadata": {
  "kernelspec": {
   "display_name": "Python 3",
   "language": "python",
   "name": "python3"
  },
  "language_info": {
   "codemirror_mode": {
    "name": "ipython",
    "version": 3
   },
   "file_extension": ".py",
   "mimetype": "text/x-python",
   "name": "python",
   "nbconvert_exporter": "python",
   "pygments_lexer": "ipython3",
   "version": "3.7.5"
  }
 },
 "nbformat": 4,
 "nbformat_minor": 2
}
