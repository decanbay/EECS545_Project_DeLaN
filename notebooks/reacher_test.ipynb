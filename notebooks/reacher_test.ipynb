{
 "cells": [
  {
   "cell_type": "code",
   "execution_count": 3,
   "metadata": {},
   "outputs": [
    {
     "name": "stdout",
     "output_type": "stream",
     "text": [
      "Observation should be [cos th1, sin th1, cos th2, sin th2, th1_dot, th2_dot]\n",
      "[ 0.58959662 -0.80769786  0.90280314 -0.43005406  0.          0.        ]\n",
      "Action should be [tau_1, tau_2]\n",
      "[-0.9940201  -0.62387943]\n"
     ]
    }
   ],
   "source": [
    "import gym\n",
    "import gym_cenvs\n",
    "import numpy as np\n",
    "\n",
    "env = gym.make('Reacher-v0')\n",
    "#env = gym.make('DoublePendulum-v0')\n",
    "observation = env.reset()\n",
    "\n",
    "print('Observation should be [cos th1, sin th1, cos th2, sin th2, th1_dot, th2_dot]')\n",
    "print(observation)\n",
    "print('Action should be [tau_1, tau_2]')\n",
    "print(env.action_space.sample())\n",
    "\n",
    "for t in range(0, 1000):\n",
    "    \n",
    "    action = env.action_space.sample()    \n",
    "    observation, reward, done, _ = env.step(action)\n",
    "    env.render()\n",
    "    \n",
    "env.close()"
   ]
  },
  {
   "cell_type": "code",
   "execution_count": null,
   "metadata": {},
   "outputs": [],
   "source": []
  }
 ],
 "metadata": {
  "kernelspec": {
   "display_name": "EECS545_Project_DeLaN",
   "language": "python",
   "name": "eecs545_project_delan"
  },
  "language_info": {
   "codemirror_mode": {
    "name": "ipython",
    "version": 3
   },
   "file_extension": ".py",
   "mimetype": "text/x-python",
   "name": "python",
   "nbconvert_exporter": "python",
   "pygments_lexer": "ipython3",
   "version": "3.7.5"
  }
 },
 "nbformat": 4,
 "nbformat_minor": 2
}
