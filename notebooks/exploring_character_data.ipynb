{
 "cells": [
  {
   "cell_type": "code",
   "execution_count": 1,
   "metadata": {},
   "outputs": [
    {
     "data": {
      "text/plain": [
       "[]"
      ]
     },
     "execution_count": 1,
     "metadata": {},
     "output_type": "execute_result"
    },
    {
     "data": {
      "image/png": "[encoded data removed]",
      "text/plain": [
       "<Figure size 432x288 with 1 Axes>"
      ]
     },
     "metadata": {
      "needs_background": "light"
     },
     "output_type": "display_data"
    }
   ],
   "source": [
    "import numpy as np\n",
    "import matplotlib.pyplot as plt\n",
    "from scipy.io import loadmat\n",
    "%matplotlib inline\n",
    "\n",
    "data_dir = '../data'\n",
    "data = loadmat('../data/mixoutALL_shifted.mat')\n",
    "        \n",
    "# Char labels N x 1 vec of labels 1-20\n",
    "char_labels = data['consts']['charlabels'][0][0].T\n",
    "\n",
    "# Key maps label to character via key[label-1]\n",
    "key = data['consts']['key'][0][0].T.squeeze()\n",
    "\n",
    "# Trajectories in list of N trajectories - each may be a different length so cannot put into one matrix\n",
    "trajectories = data['mixout'].T\n",
    "\n",
    "N, _ = char_labels.shape\n",
    "\n",
    "# Let's choose a random trajectory and look at it\n",
    "np.random.seed(0)\n",
    "n = np.random.randint(0, N)\n",
    "trajectory = trajectories[n, 0].T\n",
    "label = char_labels[n]\n",
    "\n",
    "# Suppose we start at [0, 0] and sampling as done in 200Hz (from dataset) -- roughly integrate\n",
    "positions = np.cumsum(trajectory[:, :2], axis=0) / 200.0\n",
    "accelerations = np.diff(trajectory[:, :2], axis=0) * 200.0\n",
    "\n",
    "plt.plot(positions[:, 0], positions[:, 1])\n",
    "plt.title('Trajectory for character: {}'.format(key[label-1][0][0]))\n",
    "plt.plot()\n"
   ]
  },
  {
   "cell_type": "code",
   "execution_count": 2,
   "metadata": {},
   "outputs": [],
   "source": [
    "# Try doing inverse jacobian\n",
    "import copy\n",
    "\n",
    "def J(q, l1=0.5, l2=0.5):\n",
    "    return np.asarray([[-l1 * np.sin(q[0]) - l2 * np.sin(q[0] + q[1]), -l2 * np.sin(q[0] + q[1])],\n",
    "                     [l1 * np.cos(q[0]) + l2 * np.cos(q[0] + q[1]), l2 * np.cos(q[0] + q[1])]])\n",
    "\n",
    "q_init = np.asarray([np.pi/4.0, np.pi/2.0])\n",
    "q = q_init.copy()\n",
    "q_dot = []\n",
    "for i in range(len(trajectory)):\n",
    "    # q_dot\n",
    "    v = trajectory[i, :2]\n",
    "    q_d = np.linalg.solve(J(q), v)\n",
    "    q += q_d / 200.0\n",
    "    q_dot.append(q_d)\n",
    "    \n",
    "q_dot = np.asarray(q_dot)\n",
    "q = q_init + np.cumsum(q_dot, axis=0) / 200.0\n",
    "q_ddot = np.concatenate((np.zeros((1, 2)), np.diff(q_dot, axis=0))) * 200\n",
    "\n"
   ]
  },
  {
   "cell_type": "code",
   "execution_count": 4,
   "metadata": {},
   "outputs": [
    {
     "ename": "ModuleNotFoundError",
     "evalue": "No module named 'gym_cenvs'",
     "output_type": "error",
     "traceback": [
      "\u001b[0;31m---------------------------------------------------------------------------\u001b[0m",
      "\u001b[0;31mModuleNotFoundError\u001b[0m                       Traceback (most recent call last)",
      "\u001b[0;32m<ipython-input-4-4d35dfff699c>\u001b[0m in \u001b[0;36m<module>\u001b[0;34m\u001b[0m\n\u001b[1;32m      1\u001b[0m \u001b[0;31m# How do these q's look?\u001b[0m\u001b[0;34m\u001b[0m\u001b[0;34m\u001b[0m\u001b[0;34m\u001b[0m\u001b[0m\n\u001b[1;32m      2\u001b[0m \u001b[0;32mimport\u001b[0m \u001b[0mgym\u001b[0m\u001b[0;34m\u001b[0m\u001b[0;34m\u001b[0m\u001b[0m\n\u001b[0;32m----> 3\u001b[0;31m \u001b[0;32mimport\u001b[0m \u001b[0mgym_cenvs\u001b[0m\u001b[0;34m\u001b[0m\u001b[0;34m\u001b[0m\u001b[0m\n\u001b[0m\u001b[1;32m      4\u001b[0m \u001b[0;32mimport\u001b[0m \u001b[0mtime\u001b[0m\u001b[0;34m\u001b[0m\u001b[0;34m\u001b[0m\u001b[0m\n\u001b[1;32m      5\u001b[0m \u001b[0;34m\u001b[0m\u001b[0m\n",
      "\u001b[0;31mModuleNotFoundError\u001b[0m: No module named 'gym_cenvs'"
     ]
    }
   ],
   "source": [
    "# How do these q's look?\n",
    "import gym\n",
    "import gym_cenvs\n",
    "import time\n",
    "\n",
    "env = gym.make('Reacher-v0')\n",
    "#env = gym.make('DoublePendulum-v0')\n",
    "observation = env.reset()\n",
    "#env.unwrapped.set_state(state)\n",
    "\n",
    "time.sleep(10)\n",
    "for t in range(len(q)):\n",
    "    state = np.concatenate((q[t], np.zeros(2)), axis=0)\n",
    "    env.unwrapped.set_state(state)\n",
    "    observation, reward, done, _ = env.step(np.zeros(2))\n",
    "    env.unwrapped.set_state(state)\n",
    "\n",
    "    time.sleep(0.1)\n",
    "    env.render()\n",
    "    \n",
    "env.close()"
   ]
  },
  {
   "cell_type": "code",
   "execution_count": null,
   "metadata": {},
   "outputs": [],
   "source": []
  },
  {
   "cell_type": "code",
   "execution_count": null,
   "metadata": {},
   "outputs": [],
   "source": []
  }
 ],
 "metadata": {
  "kernelspec": {
   "display_name": "Python 3",
   "language": "python",
   "name": "python3"
  },
  "language_info": {
   "codemirror_mode": {
    "name": "ipython",
    "version": 3
   },
   "file_extension": ".py",
   "mimetype": "text/x-python",
   "name": "python",
   "nbconvert_exporter": "python",
   "pygments_lexer": "ipython3",
   "version": "3.7.5"
  }
 },
 "nbformat": 4,
 "nbformat_minor": 2
}
